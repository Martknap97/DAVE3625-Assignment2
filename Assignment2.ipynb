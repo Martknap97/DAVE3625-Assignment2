{
 "cells": [
  {
   "cell_type": "code",
   "execution_count": 1,
   "id": "f33cf89d",
   "metadata": {},
   "outputs": [],
   "source": [
    "#!pip install pandas_ta"
   ]
  },
  {
   "cell_type": "code",
   "execution_count": 2,
   "id": "31aea7e5",
   "metadata": {
    "id": "31aea7e5"
   },
   "outputs": [],
   "source": [
    "%matplotlib inline\n",
    "\n",
    "import numpy as np\n",
    "import pandas as pd\n",
    "import pandas_ta\n",
    "import matplotlib.pyplot as plt\n",
    "\n",
    "from sklearn import metrics\n",
    "from sklearn import preprocessing\n",
    "from sklearn.linear_model import LinearRegression\n",
    "from sklearn.model_selection import train_test_split\n"
   ]
  },
  {
   "cell_type": "code",
   "execution_count": 3,
   "id": "c8c9ebf4",
   "metadata": {
    "id": "c8c9ebf4"
   },
   "outputs": [],
   "source": [
    "#Endre i jupyter!!!!!!!!!!!\n",
    "\n",
    "#url = \"TSLA.csv\"\n",
    "url = \"https://query1.finance.yahoo.com/v7/finance/download/TSLA?period1=1277769600&period2=1634774400&interval=1d&events=history&includeAdjustedClose=true\"\n",
    "df = pd.read_csv(url)\n"
   ]
  },
  {
   "cell_type": "code",
   "execution_count": 4,
   "id": "16d20935",
   "metadata": {
    "id": "16d20935"
   },
   "outputs": [],
   "source": [
    "#Using date as index\n",
    "df.set_index(pd.DatetimeIndex(df['Date']), inplace=True)\n",
    "df = df[['Open', 'High','Low','Volume','Close']]"
   ]
  },
  {
   "cell_type": "code",
   "execution_count": 5,
   "id": "a198c20f",
   "metadata": {
    "colab": {
     "base_uri": "https://localhost:8080/",
     "height": 390
    },
    "id": "a198c20f",
    "outputId": "f3c22c6d-3eb0-4e58-bedb-6579b0d955b4"
   },
   "outputs": [
    {
     "data": {
      "text/html": [
       "<div>\n",
       "<style scoped>\n",
       "    .dataframe tbody tr th:only-of-type {\n",
       "        vertical-align: middle;\n",
       "    }\n",
       "\n",
       "    .dataframe tbody tr th {\n",
       "        vertical-align: top;\n",
       "    }\n",
       "\n",
       "    .dataframe thead th {\n",
       "        text-align: right;\n",
       "    }\n",
       "</style>\n",
       "<table border=\"1\" class=\"dataframe\">\n",
       "  <thead>\n",
       "    <tr style=\"text-align: right;\">\n",
       "      <th></th>\n",
       "      <th>Open</th>\n",
       "      <th>High</th>\n",
       "      <th>Low</th>\n",
       "      <th>Volume</th>\n",
       "      <th>Close</th>\n",
       "    </tr>\n",
       "    <tr>\n",
       "      <th>Date</th>\n",
       "      <th></th>\n",
       "      <th></th>\n",
       "      <th></th>\n",
       "      <th></th>\n",
       "      <th></th>\n",
       "    </tr>\n",
       "  </thead>\n",
       "  <tbody>\n",
       "    <tr>\n",
       "      <th>2010-06-29</th>\n",
       "      <td>3.800</td>\n",
       "      <td>5.000</td>\n",
       "      <td>3.508</td>\n",
       "      <td>93831500</td>\n",
       "      <td>4.778</td>\n",
       "    </tr>\n",
       "    <tr>\n",
       "      <th>2010-06-30</th>\n",
       "      <td>5.158</td>\n",
       "      <td>6.084</td>\n",
       "      <td>4.660</td>\n",
       "      <td>85935500</td>\n",
       "      <td>4.766</td>\n",
       "    </tr>\n",
       "    <tr>\n",
       "      <th>2010-07-01</th>\n",
       "      <td>5.000</td>\n",
       "      <td>5.184</td>\n",
       "      <td>4.054</td>\n",
       "      <td>41094000</td>\n",
       "      <td>4.392</td>\n",
       "    </tr>\n",
       "    <tr>\n",
       "      <th>2010-07-02</th>\n",
       "      <td>4.600</td>\n",
       "      <td>4.620</td>\n",
       "      <td>3.742</td>\n",
       "      <td>25699000</td>\n",
       "      <td>3.840</td>\n",
       "    </tr>\n",
       "    <tr>\n",
       "      <th>2010-07-06</th>\n",
       "      <td>4.000</td>\n",
       "      <td>4.000</td>\n",
       "      <td>3.166</td>\n",
       "      <td>34334500</td>\n",
       "      <td>3.222</td>\n",
       "    </tr>\n",
       "    <tr>\n",
       "      <th>2010-07-07</th>\n",
       "      <td>3.280</td>\n",
       "      <td>3.326</td>\n",
       "      <td>2.996</td>\n",
       "      <td>34608500</td>\n",
       "      <td>3.160</td>\n",
       "    </tr>\n",
       "    <tr>\n",
       "      <th>2010-07-08</th>\n",
       "      <td>3.228</td>\n",
       "      <td>3.504</td>\n",
       "      <td>3.114</td>\n",
       "      <td>38557000</td>\n",
       "      <td>3.492</td>\n",
       "    </tr>\n",
       "    <tr>\n",
       "      <th>2010-07-09</th>\n",
       "      <td>3.516</td>\n",
       "      <td>3.580</td>\n",
       "      <td>3.310</td>\n",
       "      <td>20253000</td>\n",
       "      <td>3.480</td>\n",
       "    </tr>\n",
       "    <tr>\n",
       "      <th>2010-07-12</th>\n",
       "      <td>3.590</td>\n",
       "      <td>3.614</td>\n",
       "      <td>3.400</td>\n",
       "      <td>11012500</td>\n",
       "      <td>3.410</td>\n",
       "    </tr>\n",
       "    <tr>\n",
       "      <th>2010-07-13</th>\n",
       "      <td>3.478</td>\n",
       "      <td>3.728</td>\n",
       "      <td>3.380</td>\n",
       "      <td>13400500</td>\n",
       "      <td>3.628</td>\n",
       "    </tr>\n",
       "  </tbody>\n",
       "</table>\n",
       "</div>"
      ],
      "text/plain": [
       "             Open   High    Low    Volume  Close\n",
       "Date                                            \n",
       "2010-06-29  3.800  5.000  3.508  93831500  4.778\n",
       "2010-06-30  5.158  6.084  4.660  85935500  4.766\n",
       "2010-07-01  5.000  5.184  4.054  41094000  4.392\n",
       "2010-07-02  4.600  4.620  3.742  25699000  3.840\n",
       "2010-07-06  4.000  4.000  3.166  34334500  3.222\n",
       "2010-07-07  3.280  3.326  2.996  34608500  3.160\n",
       "2010-07-08  3.228  3.504  3.114  38557000  3.492\n",
       "2010-07-09  3.516  3.580  3.310  20253000  3.480\n",
       "2010-07-12  3.590  3.614  3.400  11012500  3.410\n",
       "2010-07-13  3.478  3.728  3.380  13400500  3.628"
      ]
     },
     "execution_count": 5,
     "metadata": {},
     "output_type": "execute_result"
    }
   ],
   "source": [
    "#Checking data\n",
    "df.head(10)"
   ]
  },
  {
   "cell_type": "code",
   "execution_count": 6,
   "id": "f4223b8e",
   "metadata": {
    "colab": {
     "base_uri": "https://localhost:8080/",
     "height": 297
    },
    "id": "f4223b8e",
    "outputId": "87ed1b87-df9a-48be-fe51-87f25661925f"
   },
   "outputs": [
    {
     "data": {
      "text/plain": [
       "<AxesSubplot:xlabel='Date'>"
      ]
     },
     "execution_count": 6,
     "metadata": {},
     "output_type": "execute_result"
    },
    {
     "data": {
      "image/png": "[encoded data removed]",
      "text/plain": [
       "<Figure size 432x288 with 1 Axes>"
      ]
     },
     "metadata": {
      "needs_background": "light"
     },
     "output_type": "display_data"
    }
   ],
   "source": [
    "#Checking data plotted\n",
    "df.plot()"
   ]
  },
  {
   "cell_type": "code",
   "execution_count": 7,
   "id": "9c9a2e1d",
   "metadata": {
    "colab": {
     "base_uri": "https://localhost:8080/"
    },
    "id": "9c9a2e1d",
    "outputId": "d1fc955f-329c-409a-925f-3e8107beda83"
   },
   "outputs": [
    {
     "data": {
      "text/plain": [
       "Date\n",
       "2010-06-29           NaN\n",
       "2010-06-30           NaN\n",
       "2010-07-01           NaN\n",
       "2010-07-02           NaN\n",
       "2010-07-06           NaN\n",
       "                 ...    \n",
       "2021-10-14    795.668213\n",
       "2021-10-15    804.279453\n",
       "2021-10-18    816.248640\n",
       "2021-10-19    824.979800\n",
       "2021-10-20    832.401653\n",
       "Name: EMA_10, Length: 2849, dtype: float64"
      ]
     },
     "execution_count": 7,
     "metadata": {},
     "output_type": "execute_result"
    }
   ],
   "source": [
    "#Calculating Exponential Moving Average based on the last 10 days. Nice feature in stock prediction\n",
    "df.ta.ema(close='Close', lenght=10, append=True)\n"
   ]
  },
  {
   "cell_type": "code",
   "execution_count": 8,
   "id": "f5b579c6",
   "metadata": {
    "colab": {
     "base_uri": "https://localhost:8080/",
     "height": 700
    },
    "id": "f5b579c6",
    "outputId": "3c049679-5c5d-436d-bd77-6c13fa264678"
   },
   "outputs": [
    {
     "data": {
      "text/html": [
       "<div>\n",
       "<style scoped>\n",
       "    .dataframe tbody tr th:only-of-type {\n",
       "        vertical-align: middle;\n",
       "    }\n",
       "\n",
       "    .dataframe tbody tr th {\n",
       "        vertical-align: top;\n",
       "    }\n",
       "\n",
       "    .dataframe thead th {\n",
       "        text-align: right;\n",
       "    }\n",
       "</style>\n",
       "<table border=\"1\" class=\"dataframe\">\n",
       "  <thead>\n",
       "    <tr style=\"text-align: right;\">\n",
       "      <th></th>\n",
       "      <th>Open</th>\n",
       "      <th>High</th>\n",
       "      <th>Low</th>\n",
       "      <th>Volume</th>\n",
       "      <th>Close</th>\n",
       "      <th>EMA_10</th>\n",
       "    </tr>\n",
       "    <tr>\n",
       "      <th>Date</th>\n",
       "      <th></th>\n",
       "      <th></th>\n",
       "      <th></th>\n",
       "      <th></th>\n",
       "      <th></th>\n",
       "      <th></th>\n",
       "    </tr>\n",
       "  </thead>\n",
       "  <tbody>\n",
       "    <tr>\n",
       "      <th>2010-06-29</th>\n",
       "      <td>3.800</td>\n",
       "      <td>5.000</td>\n",
       "      <td>3.508</td>\n",
       "      <td>93831500</td>\n",
       "      <td>4.778</td>\n",
       "      <td>NaN</td>\n",
       "    </tr>\n",
       "    <tr>\n",
       "      <th>2010-06-30</th>\n",
       "      <td>5.158</td>\n",
       "      <td>6.084</td>\n",
       "      <td>4.660</td>\n",
       "      <td>85935500</td>\n",
       "      <td>4.766</td>\n",
       "      <td>NaN</td>\n",
       "    </tr>\n",
       "    <tr>\n",
       "      <th>2010-07-01</th>\n",
       "      <td>5.000</td>\n",
       "      <td>5.184</td>\n",
       "      <td>4.054</td>\n",
       "      <td>41094000</td>\n",
       "      <td>4.392</td>\n",
       "      <td>NaN</td>\n",
       "    </tr>\n",
       "    <tr>\n",
       "      <th>2010-07-02</th>\n",
       "      <td>4.600</td>\n",
       "      <td>4.620</td>\n",
       "      <td>3.742</td>\n",
       "      <td>25699000</td>\n",
       "      <td>3.840</td>\n",
       "      <td>NaN</td>\n",
       "    </tr>\n",
       "    <tr>\n",
       "      <th>2010-07-06</th>\n",
       "      <td>4.000</td>\n",
       "      <td>4.000</td>\n",
       "      <td>3.166</td>\n",
       "      <td>34334500</td>\n",
       "      <td>3.222</td>\n",
       "      <td>NaN</td>\n",
       "    </tr>\n",
       "    <tr>\n",
       "      <th>2010-07-07</th>\n",
       "      <td>3.280</td>\n",
       "      <td>3.326</td>\n",
       "      <td>2.996</td>\n",
       "      <td>34608500</td>\n",
       "      <td>3.160</td>\n",
       "      <td>NaN</td>\n",
       "    </tr>\n",
       "    <tr>\n",
       "      <th>2010-07-08</th>\n",
       "      <td>3.228</td>\n",
       "      <td>3.504</td>\n",
       "      <td>3.114</td>\n",
       "      <td>38557000</td>\n",
       "      <td>3.492</td>\n",
       "      <td>NaN</td>\n",
       "    </tr>\n",
       "    <tr>\n",
       "      <th>2010-07-09</th>\n",
       "      <td>3.516</td>\n",
       "      <td>3.580</td>\n",
       "      <td>3.310</td>\n",
       "      <td>20253000</td>\n",
       "      <td>3.480</td>\n",
       "      <td>NaN</td>\n",
       "    </tr>\n",
       "    <tr>\n",
       "      <th>2010-07-12</th>\n",
       "      <td>3.590</td>\n",
       "      <td>3.614</td>\n",
       "      <td>3.400</td>\n",
       "      <td>11012500</td>\n",
       "      <td>3.410</td>\n",
       "      <td>NaN</td>\n",
       "    </tr>\n",
       "    <tr>\n",
       "      <th>2010-07-13</th>\n",
       "      <td>3.478</td>\n",
       "      <td>3.728</td>\n",
       "      <td>3.380</td>\n",
       "      <td>13400500</td>\n",
       "      <td>3.628</td>\n",
       "      <td>3.816800</td>\n",
       "    </tr>\n",
       "    <tr>\n",
       "      <th>2010-07-14</th>\n",
       "      <td>3.588</td>\n",
       "      <td>4.030</td>\n",
       "      <td>3.552</td>\n",
       "      <td>20976000</td>\n",
       "      <td>3.968</td>\n",
       "      <td>3.844291</td>\n",
       "    </tr>\n",
       "    <tr>\n",
       "      <th>2010-07-15</th>\n",
       "      <td>3.988</td>\n",
       "      <td>4.300</td>\n",
       "      <td>3.800</td>\n",
       "      <td>18699000</td>\n",
       "      <td>3.978</td>\n",
       "      <td>3.868602</td>\n",
       "    </tr>\n",
       "    <tr>\n",
       "      <th>2010-07-16</th>\n",
       "      <td>4.140</td>\n",
       "      <td>4.260</td>\n",
       "      <td>4.010</td>\n",
       "      <td>13106500</td>\n",
       "      <td>4.128</td>\n",
       "      <td>3.915765</td>\n",
       "    </tr>\n",
       "    <tr>\n",
       "      <th>2010-07-19</th>\n",
       "      <td>4.274</td>\n",
       "      <td>4.450</td>\n",
       "      <td>4.184</td>\n",
       "      <td>12432500</td>\n",
       "      <td>4.382</td>\n",
       "      <td>4.000535</td>\n",
       "    </tr>\n",
       "    <tr>\n",
       "      <th>2010-07-20</th>\n",
       "      <td>4.370</td>\n",
       "      <td>4.370</td>\n",
       "      <td>4.010</td>\n",
       "      <td>9126500</td>\n",
       "      <td>4.060</td>\n",
       "      <td>4.011347</td>\n",
       "    </tr>\n",
       "    <tr>\n",
       "      <th>2010-07-21</th>\n",
       "      <td>4.132</td>\n",
       "      <td>4.180</td>\n",
       "      <td>3.900</td>\n",
       "      <td>6262500</td>\n",
       "      <td>4.044</td>\n",
       "      <td>4.017284</td>\n",
       "    </tr>\n",
       "    <tr>\n",
       "      <th>2010-07-22</th>\n",
       "      <td>4.100</td>\n",
       "      <td>4.250</td>\n",
       "      <td>4.074</td>\n",
       "      <td>4789000</td>\n",
       "      <td>4.200</td>\n",
       "      <td>4.050505</td>\n",
       "    </tr>\n",
       "    <tr>\n",
       "      <th>2010-07-23</th>\n",
       "      <td>4.238</td>\n",
       "      <td>4.312</td>\n",
       "      <td>4.212</td>\n",
       "      <td>3268000</td>\n",
       "      <td>4.258</td>\n",
       "      <td>4.088231</td>\n",
       "    </tr>\n",
       "    <tr>\n",
       "      <th>2010-07-26</th>\n",
       "      <td>4.300</td>\n",
       "      <td>4.300</td>\n",
       "      <td>4.060</td>\n",
       "      <td>4611000</td>\n",
       "      <td>4.190</td>\n",
       "      <td>4.106735</td>\n",
       "    </tr>\n",
       "    <tr>\n",
       "      <th>2010-07-27</th>\n",
       "      <td>4.182</td>\n",
       "      <td>4.236</td>\n",
       "      <td>4.052</td>\n",
       "      <td>3098500</td>\n",
       "      <td>4.110</td>\n",
       "      <td>4.107328</td>\n",
       "    </tr>\n",
       "  </tbody>\n",
       "</table>\n",
       "</div>"
      ],
      "text/plain": [
       "             Open   High    Low    Volume  Close    EMA_10\n",
       "Date                                                      \n",
       "2010-06-29  3.800  5.000  3.508  93831500  4.778       NaN\n",
       "2010-06-30  5.158  6.084  4.660  85935500  4.766       NaN\n",
       "2010-07-01  5.000  5.184  4.054  41094000  4.392       NaN\n",
       "2010-07-02  4.600  4.620  3.742  25699000  3.840       NaN\n",
       "2010-07-06  4.000  4.000  3.166  34334500  3.222       NaN\n",
       "2010-07-07  3.280  3.326  2.996  34608500  3.160       NaN\n",
       "2010-07-08  3.228  3.504  3.114  38557000  3.492       NaN\n",
       "2010-07-09  3.516  3.580  3.310  20253000  3.480       NaN\n",
       "2010-07-12  3.590  3.614  3.400  11012500  3.410       NaN\n",
       "2010-07-13  3.478  3.728  3.380  13400500  3.628  3.816800\n",
       "2010-07-14  3.588  4.030  3.552  20976000  3.968  3.844291\n",
       "2010-07-15  3.988  4.300  3.800  18699000  3.978  3.868602\n",
       "2010-07-16  4.140  4.260  4.010  13106500  4.128  3.915765\n",
       "2010-07-19  4.274  4.450  4.184  12432500  4.382  4.000535\n",
       "2010-07-20  4.370  4.370  4.010   9126500  4.060  4.011347\n",
       "2010-07-21  4.132  4.180  3.900   6262500  4.044  4.017284\n",
       "2010-07-22  4.100  4.250  4.074   4789000  4.200  4.050505\n",
       "2010-07-23  4.238  4.312  4.212   3268000  4.258  4.088231\n",
       "2010-07-26  4.300  4.300  4.060   4611000  4.190  4.106735\n",
       "2010-07-27  4.182  4.236  4.052   3098500  4.110  4.107328"
      ]
     },
     "execution_count": 8,
     "metadata": {},
     "output_type": "execute_result"
    }
   ],
   "source": [
    "df.head(20)"
   ]
  },
  {
   "cell_type": "code",
   "execution_count": 9,
   "id": "b21e554c",
   "metadata": {
    "id": "b21e554c"
   },
   "outputs": [],
   "source": [
    "#Removing NAN values because of our data, because the average could not be calculated without 10 days of previous data\n",
    "df.dropna(inplace = True);"
   ]
  },
  {
   "cell_type": "code",
   "execution_count": 10,
   "id": "dfe88768",
   "metadata": {
    "colab": {
     "base_uri": "https://localhost:8080/",
     "height": 235
    },
    "id": "dfe88768",
    "outputId": "b924768a-3c78-431f-9a4f-873727645553"
   },
   "outputs": [
    {
     "data": {
      "text/html": [
       "<div>\n",
       "<style scoped>\n",
       "    .dataframe tbody tr th:only-of-type {\n",
       "        vertical-align: middle;\n",
       "    }\n",
       "\n",
       "    .dataframe tbody tr th {\n",
       "        vertical-align: top;\n",
       "    }\n",
       "\n",
       "    .dataframe thead th {\n",
       "        text-align: right;\n",
       "    }\n",
       "</style>\n",
       "<table border=\"1\" class=\"dataframe\">\n",
       "  <thead>\n",
       "    <tr style=\"text-align: right;\">\n",
       "      <th></th>\n",
       "      <th>Open</th>\n",
       "      <th>High</th>\n",
       "      <th>Low</th>\n",
       "      <th>Volume</th>\n",
       "      <th>Close</th>\n",
       "      <th>EMA_10</th>\n",
       "    </tr>\n",
       "    <tr>\n",
       "      <th>Date</th>\n",
       "      <th></th>\n",
       "      <th></th>\n",
       "      <th></th>\n",
       "      <th></th>\n",
       "      <th></th>\n",
       "      <th></th>\n",
       "    </tr>\n",
       "  </thead>\n",
       "  <tbody>\n",
       "    <tr>\n",
       "      <th>2010-07-13</th>\n",
       "      <td>3.478</td>\n",
       "      <td>3.728</td>\n",
       "      <td>3.380</td>\n",
       "      <td>13400500</td>\n",
       "      <td>3.628</td>\n",
       "      <td>3.816800</td>\n",
       "    </tr>\n",
       "    <tr>\n",
       "      <th>2010-07-14</th>\n",
       "      <td>3.588</td>\n",
       "      <td>4.030</td>\n",
       "      <td>3.552</td>\n",
       "      <td>20976000</td>\n",
       "      <td>3.968</td>\n",
       "      <td>3.844291</td>\n",
       "    </tr>\n",
       "    <tr>\n",
       "      <th>2010-07-15</th>\n",
       "      <td>3.988</td>\n",
       "      <td>4.300</td>\n",
       "      <td>3.800</td>\n",
       "      <td>18699000</td>\n",
       "      <td>3.978</td>\n",
       "      <td>3.868602</td>\n",
       "    </tr>\n",
       "    <tr>\n",
       "      <th>2010-07-16</th>\n",
       "      <td>4.140</td>\n",
       "      <td>4.260</td>\n",
       "      <td>4.010</td>\n",
       "      <td>13106500</td>\n",
       "      <td>4.128</td>\n",
       "      <td>3.915765</td>\n",
       "    </tr>\n",
       "    <tr>\n",
       "      <th>2010-07-19</th>\n",
       "      <td>4.274</td>\n",
       "      <td>4.450</td>\n",
       "      <td>4.184</td>\n",
       "      <td>12432500</td>\n",
       "      <td>4.382</td>\n",
       "      <td>4.000535</td>\n",
       "    </tr>\n",
       "  </tbody>\n",
       "</table>\n",
       "</div>"
      ],
      "text/plain": [
       "             Open   High    Low    Volume  Close    EMA_10\n",
       "Date                                                      \n",
       "2010-07-13  3.478  3.728  3.380  13400500  3.628  3.816800\n",
       "2010-07-14  3.588  4.030  3.552  20976000  3.968  3.844291\n",
       "2010-07-15  3.988  4.300  3.800  18699000  3.978  3.868602\n",
       "2010-07-16  4.140  4.260  4.010  13106500  4.128  3.915765\n",
       "2010-07-19  4.274  4.450  4.184  12432500  4.382  4.000535"
      ]
     },
     "execution_count": 10,
     "metadata": {},
     "output_type": "execute_result"
    }
   ],
   "source": [
    "#Check if it worked\n",
    "df.head()"
   ]
  },
  {
   "cell_type": "code",
   "execution_count": 11,
   "id": "4693221d",
   "metadata": {
    "id": "4693221d"
   },
   "outputs": [],
   "source": [
    "#defining x and y for splitting, training and testing\n",
    "X = df[['EMA_10']]\n",
    "y = df[['Close']]\n",
    "\n",
    "X_train, X_test, y_train, y_test = train_test_split(X, y, test_size=0.33, random_state=42)"
   ]
  },
  {
   "cell_type": "code",
   "execution_count": 12,
   "id": "cd77e236",
   "metadata": {
    "id": "cd77e236"
   },
   "outputs": [],
   "source": [
    "linear_regressor = LinearRegression()  # create object for the class\n",
    "linear_regressor.fit(X_train, y_train)  # perform linear regression\n",
    "Y_pred = linear_regressor.predict(X_train)  # make predictions"
   ]
  },
  {
   "cell_type": "code",
   "execution_count": 13,
   "id": "756a5371",
   "metadata": {
    "id": "756a5371"
   },
   "outputs": [
    {
     "data": {
      "image/png": "[encoded data removed]",
      "text/plain": [
       "<Figure size 432x288 with 1 Axes>"
      ]
     },
     "metadata": {
      "needs_background": "light"
     },
     "output_type": "display_data"
    },
    {
     "name": "stdout",
     "output_type": "stream",
     "text": [
      "MSE = 116.9009547065091\n"
     ]
    }
   ],
   "source": [
    "#Copied from lab4\n",
    "\n",
    "plt.scatter(X_train, y_train)             #Plot blue dots with real data\n",
    "plt.plot(X_train, Y_pred, color='red')    #Plot red line with prediction\n",
    "plt.show()                                #Show the plot\n",
    "print( \"MSE = \"+str(metrics.mean_squared_error(y_train,Y_pred))) #Calculate MSE"
   ]
  },
  {
   "cell_type": "code",
   "execution_count": 14,
   "id": "f48c93ab",
   "metadata": {
    "id": "f48c93ab"
   },
   "outputs": [
    {
     "data": {
      "image/png": "[encoded data removed]",
      "text/plain": [
       "<Figure size 432x288 with 1 Axes>"
      ]
     },
     "metadata": {
      "needs_background": "light"
     },
     "output_type": "display_data"
    },
    {
     "name": "stdout",
     "output_type": "stream",
     "text": [
      "MSE = 103.41663042596572\n"
     ]
    }
   ],
   "source": [
    "#Copied from lab4\n",
    "\n",
    "Y_pred = linear_regressor.predict(X_test)  # Predict the model on X_test\n",
    "plt.scatter(X_test, y_test)\n",
    "plt.plot(X_test, Y_pred, color='red')\n",
    "plt.show()\n",
    "print( \"MSE = \"+str(metrics.mean_squared_error(y_test,Y_pred)))"
   ]
  },
  {
   "cell_type": "code",
   "execution_count": 15,
   "id": "33b52f42",
   "metadata": {
    "colab": {
     "base_uri": "https://localhost:8080/"
    },
    "id": "33b52f42",
    "outputId": "a5374bf5-d68a-42c9-e49d-76003a17b0e3",
    "scrolled": true
   },
   "outputs": [
    {
     "name": "stdout",
     "output_type": "stream",
     "text": [
      "Predicted price on date 2021-01-04: 676.789882997243\n",
      "Actual price on date 2021-01-04: 729.77002\n",
      "Percentage of actual price: 92.74015983792304\n"
     ]
    }
   ],
   "source": [
    "\n",
    "#Input dato\n",
    "dato ='2021-01-04'\n",
    "\n",
    "try:\n",
    "    #Finding index for chosen date\n",
    "    i = df.index.get_loc(dato)\n",
    "    \n",
    "    #Finding day before to predict closing price on chosen date\n",
    "    dfDato = df.iloc[[i-1]]\n",
    "    emaDato = dfDato[['EMA_10']]\n",
    "\n",
    "    actualPrice = df.iloc[i]['Close']\n",
    "\n",
    "        \n",
    "except:\n",
    "    #Could not see from the assignment if we should predict into the future, as we can not check the actual price in the future.\n",
    "    print('ERROR: This could be a weekend or future') \n",
    "\n",
    "prediction = linear_regressor.predict(emaDato)\n",
    "predPrice = prediction[0][0]\n",
    "\n",
    "percentage = (predPrice/actualPrice)*100\n",
    "\n",
    "#Output prediction\n",
    "print('Predicted price on date ' + str(dato) + \": \" + str(predPrice))\n",
    "print('Actual price on date '+ str(dato) + \": \" + str(actualPrice))\n",
    "print('Percentage of actual price: ' + str(percentage))"
   ]
  },
  {
   "cell_type": "code",
   "execution_count": null,
   "id": "3563eb8b",
   "metadata": {
    "id": "3563eb8b"
   },
   "outputs": [],
   "source": []
  },
  {
   "cell_type": "code",
   "execution_count": 16,
   "id": "bdf3d962",
   "metadata": {
    "id": "bdf3d962"
   },
   "outputs": [],
   "source": [
    "#Predicting the future. How we would have done it. (Written in Norwegian before changing solution)\n",
    "\n",
    "#Input en dag.\n",
    "#Løkke per dag fra siste dag i datasett fram til input\n",
    "\n",
    "    #Kjør prediction basert på siste EMA\n",
    "#    prediction = linear_regressor.predict(df[['EMA_10']].tail(1))\n",
    "#    print(prediction)\n",
    "\n",
    "    #Legg til prediction på bunnen av dataframe i \"Close\" (Bare siste 10dager?)\n",
    "#    df['Close'].last('14D') #14 dager er 10 rader pga helg.\n",
    "\n",
    "    #Regne ut nytt EMA\n",
    "\n",
    "#Printe siste prediction"
   ]
  }
 ],
 "metadata": {
  "colab": {
   "collapsed_sections": [],
   "name": "AIML.ipynb",
   "provenance": []
  },
  "kernelspec": {
   "display_name": "Python 3 (ipykernel)",
   "language": "python",
   "name": "python3"
  },
  "language_info": {
   "codemirror_mode": {
    "name": "ipython",
    "version": 3
   },
   "file_extension": ".py",
   "mimetype": "text/x-python",
   "name": "python",
   "nbconvert_exporter": "python",
   "pygments_lexer": "ipython3",
   "version": "3.8.11"
  }
 },
 "nbformat": 4,
 "nbformat_minor": 5
}
